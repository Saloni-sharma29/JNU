{
  "nbformat": 4,
  "nbformat_minor": 0,
  "metadata": {
    "colab": {
      "provenance": []
    },
    "kernelspec": {
      "name": "python3",
      "display_name": "Python 3"
    },
    "language_info": {
      "name": "python"
    }
  },
  "cells": [
    {
      "cell_type": "code",
      "execution_count": null,
      "metadata": {
        "id": "Te0jSzR2ASIi"
      },
      "outputs": [],
      "source": [
        "import os\n",
        "from openpyxl import Workbook\n",
        "\n",
        "# Function to count words in a file\n",
        "def count_words(file_path):\n",
        "    with open(file_path, 'r', encoding='utf-8') as file:\n",
        "        content = file.read()\n",
        "        words = content.split()\n",
        "        return len(words)\n",
        "\n",
        "# Function to process files in a folder\n",
        "def process_folder(folder_path):\n",
        "    word_counts = {}\n",
        "\n",
        "    for file_name in os.listdir(folder_path):\n",
        "        file_path = os.path.join(folder_path, file_name)\n",
        "        if os.path.isfile(file_path) and file_name.endswith('.txt'):\n",
        "            word_count = count_words(file_path)\n",
        "            word_counts[file_name] = word_count\n",
        "\n",
        "    return word_counts\n",
        "\n",
        "# Create Excel workbook and add data\n",
        "def create_excel_file(judgment_data, summary_data, excel_file_path):\n",
        "    wb = Workbook()\n",
        "    ws = wb.active\n",
        "    ws.append(['File Name', 'Judgment Word Count', 'Summary Word Count'])\n",
        "\n",
        "    for file_name, judgment_count in judgment_data.items():\n",
        "        summary_count = summary_data.get(file_name, 0)\n",
        "        ws.append([file_name, judgment_count, summary_count])\n",
        "\n",
        "    wb.save(excel_file_path)\n",
        "\n",
        "# Define folder paths\n",
        "judgment_folder = '/content/drive/MyDrive/Headnote Judgment/Judgment'\n",
        "summary_folder = '/content/drive/MyDrive/Headnote Judgment/Summary'\n",
        "\n",
        "# Process folders and count words\n",
        "judgment_word_counts = process_folder(judgment_folder)\n",
        "summary_word_counts = process_folder(summary_folder)\n",
        "\n",
        "# Combine data and create Excel file\n",
        "excel_file_path = '/content/drive/MyDrive/Headnote Judgment/WordCount.xlsx'\n",
        "create_excel_file(judgment_word_counts, summary_word_counts, excel_file_path)\n"
      ]
    },
    {
      "cell_type": "code",
      "source": [
        "from google.colab import drive\n",
        "drive.mount('/content/drive')"
      ],
      "metadata": {
        "colab": {
          "base_uri": "https://localhost:8080/"
        },
        "id": "e3sxQN6yAgJh",
        "outputId": "d378399e-a379-4a85-ec49-9db38acddf1f"
      },
      "execution_count": null,
      "outputs": [
        {
          "output_type": "stream",
          "name": "stdout",
          "text": [
            "Mounted at /content/drive\n"
          ]
        }
      ]
    }
  ]
}